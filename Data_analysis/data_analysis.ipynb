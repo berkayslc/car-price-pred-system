{
 "cells": [
  {
   "cell_type": "code",
   "execution_count": 2,
   "metadata": {},
   "outputs": [
    {
     "name": "stdout",
     "output_type": "stream",
     "text": [
      "Veri setinin ilk 5 satırı:\n",
      "                           name  year  selling_price  km_driven    fuel  \\\n",
      "0        Maruti Swift Dzire VDI  2014         450000     145500  Diesel   \n",
      "1  Skoda Rapid 1.5 TDI Ambition  2014         370000     120000  Diesel   \n",
      "2      Honda City 2017-2020 EXi  2006         158000     140000  Petrol   \n",
      "3     Hyundai i20 Sportz Diesel  2010         225000     127000  Diesel   \n",
      "4        Maruti Swift VXI BSIII  2007         130000     120000  Petrol   \n",
      "\n",
      "  seller_type transmission         owner     mileage   engine   max_power  \\\n",
      "0  Individual       Manual   First Owner   23.4 kmpl  1248 CC      74 bhp   \n",
      "1  Individual       Manual  Second Owner  21.14 kmpl  1498 CC  103.52 bhp   \n",
      "2  Individual       Manual   Third Owner   17.7 kmpl  1497 CC      78 bhp   \n",
      "3  Individual       Manual   First Owner   23.0 kmpl  1396 CC      90 bhp   \n",
      "4  Individual       Manual   First Owner   16.1 kmpl  1298 CC    88.2 bhp   \n",
      "\n",
      "                     torque  seats  brand  model  \n",
      "0            190Nm@ 2000rpm    5.0      0      0  \n",
      "1       250Nm@ 1500-2500rpm    5.0      1      1  \n",
      "2     12.7@ 2,700(kgm@ rpm)    5.0      2      2  \n",
      "3  22.4 kgm at 1750-2750rpm    5.0      3      3  \n",
      "4     11.5@ 4,500(kgm@ rpm)    5.0      0      4  \n"
     ]
    }
   ],
   "source": [
    "import pandas as pd\n",
    "import numpy as np\n",
    "from sklearn.model_selection import train_test_split\n",
    "from sklearn.linear_model import LinearRegression\n",
    "from sklearn.metrics import mean_squared_error, r2_score\n",
    "from sklearn.preprocessing import LabelEncoder\n",
    "\n",
    "# Veri setini yükleme\n",
    "cars_data = pd.read_csv('Processed_Cardetails.csv')\n",
    "\n",
    "# İlk 5 satırı görüntüleme\n",
    "print(\"Veri setinin ilk 5 satırı:\")\n",
    "print(cars_data.head())"
   ]
  },
  {
   "cell_type": "code",
   "execution_count": 3,
   "metadata": {},
   "outputs": [
    {
     "name": "stdout",
     "output_type": "stream",
     "text": [
      "Eksik değerler:\n",
      " name               0\n",
      "year               0\n",
      "selling_price      0\n",
      "km_driven          0\n",
      "fuel               0\n",
      "seller_type        0\n",
      "transmission       0\n",
      "owner              0\n",
      "mileage          221\n",
      "engine           221\n",
      "max_power        215\n",
      "torque           222\n",
      "seats            221\n",
      "brand              0\n",
      "model              0\n",
      "dtype: int64\n",
      "Yinelenen satır sayısı: 1189\n",
      "Güncellenmiş veri seti boyutu: (6717, 14)\n"
     ]
    }
   ],
   "source": [
    "# Eksik değerlerin kontrolü ve temizliği\n",
    "print(\"Eksik değerler:\\n\", cars_data.isnull().sum())\n",
    "cars_data.dropna(inplace=True)\n",
    "\n",
    "# Yinelenen satırların kontrolü ve temizliği\n",
    "print(\"Yinelenen satır sayısı:\", cars_data.duplicated().sum())\n",
    "cars_data.drop_duplicates(inplace=True)\n",
    "\n",
    "# Torque sütununu kaldırma (kullanılmıyor)\n",
    "cars_data.drop(columns=['torque'], inplace=True)\n",
    "\n",
    "# Veri setinin boyutunu görüntüleme\n",
    "print(\"Güncellenmiş veri seti boyutu:\", cars_data.shape)"
   ]
  },
  {
   "cell_type": "code",
   "execution_count": 4,
   "metadata": {},
   "outputs": [
    {
     "name": "stdout",
     "output_type": "stream",
     "text": [
      "<class 'pandas.core.frame.DataFrame'>\n",
      "Index: 6717 entries, 0 to 8125\n",
      "Data columns (total 14 columns):\n",
      " #   Column         Non-Null Count  Dtype  \n",
      "---  ------         --------------  -----  \n",
      " 0   name           6717 non-null   object \n",
      " 1   year           6717 non-null   int64  \n",
      " 2   selling_price  6717 non-null   int64  \n",
      " 3   km_driven      6717 non-null   int64  \n",
      " 4   fuel           6717 non-null   int64  \n",
      " 5   seller_type    6717 non-null   int64  \n",
      " 6   transmission   6717 non-null   int64  \n",
      " 7   owner          6717 non-null   int64  \n",
      " 8   mileage        6717 non-null   object \n",
      " 9   engine         6717 non-null   object \n",
      " 10  max_power      6717 non-null   object \n",
      " 11  seats          6717 non-null   float64\n",
      " 12  brand          6717 non-null   int64  \n",
      " 13  model          6717 non-null   int64  \n",
      "dtypes: float64(1), int64(9), object(4)\n",
      "memory usage: 787.1+ KB\n",
      "None\n"
     ]
    },
    {
     "name": "stderr",
     "output_type": "stream",
     "text": [
      "/var/folders/9p/yv_48jpn7zs4mtl8qstty22h0000gn/T/ipykernel_21906/2897772613.py:10: FutureWarning: A value is trying to be set on a copy of a DataFrame or Series through chained assignment using an inplace method.\n",
      "The behavior will change in pandas 3.0. This inplace method will never work because the intermediate object on which we are setting values always behaves as a copy.\n",
      "\n",
      "For example, when doing 'df[col].method(value, inplace=True)', try using 'df.method({col: value}, inplace=True)' or df[col] = df[col].method(value) instead, to perform the operation inplace on the original object.\n",
      "\n",
      "\n",
      "  cars_data['transmission'].replace(['Manual', 'Automatic'], [1, 2], inplace=True)\n",
      "/var/folders/9p/yv_48jpn7zs4mtl8qstty22h0000gn/T/ipykernel_21906/2897772613.py:10: FutureWarning: Downcasting behavior in `replace` is deprecated and will be removed in a future version. To retain the old behavior, explicitly call `result.infer_objects(copy=False)`. To opt-in to the future behavior, set `pd.set_option('future.no_silent_downcasting', True)`\n",
      "  cars_data['transmission'].replace(['Manual', 'Automatic'], [1, 2], inplace=True)\n",
      "/var/folders/9p/yv_48jpn7zs4mtl8qstty22h0000gn/T/ipykernel_21906/2897772613.py:11: FutureWarning: A value is trying to be set on a copy of a DataFrame or Series through chained assignment using an inplace method.\n",
      "The behavior will change in pandas 3.0. This inplace method will never work because the intermediate object on which we are setting values always behaves as a copy.\n",
      "\n",
      "For example, when doing 'df[col].method(value, inplace=True)', try using 'df.method({col: value}, inplace=True)' or df[col] = df[col].method(value) instead, to perform the operation inplace on the original object.\n",
      "\n",
      "\n",
      "  cars_data['seller_type'].replace(['Individual', 'Dealer', 'Trustmark Dealer'], [1, 2, 3], inplace=True)\n",
      "/var/folders/9p/yv_48jpn7zs4mtl8qstty22h0000gn/T/ipykernel_21906/2897772613.py:11: FutureWarning: Downcasting behavior in `replace` is deprecated and will be removed in a future version. To retain the old behavior, explicitly call `result.infer_objects(copy=False)`. To opt-in to the future behavior, set `pd.set_option('future.no_silent_downcasting', True)`\n",
      "  cars_data['seller_type'].replace(['Individual', 'Dealer', 'Trustmark Dealer'], [1, 2, 3], inplace=True)\n",
      "/var/folders/9p/yv_48jpn7zs4mtl8qstty22h0000gn/T/ipykernel_21906/2897772613.py:12: FutureWarning: A value is trying to be set on a copy of a DataFrame or Series through chained assignment using an inplace method.\n",
      "The behavior will change in pandas 3.0. This inplace method will never work because the intermediate object on which we are setting values always behaves as a copy.\n",
      "\n",
      "For example, when doing 'df[col].method(value, inplace=True)', try using 'df.method({col: value}, inplace=True)' or df[col] = df[col].method(value) instead, to perform the operation inplace on the original object.\n",
      "\n",
      "\n",
      "  cars_data['fuel'].replace(['Diesel', 'Petrol', 'LPG', 'CNG'], [1, 2, 3, 4], inplace=True)\n",
      "/var/folders/9p/yv_48jpn7zs4mtl8qstty22h0000gn/T/ipykernel_21906/2897772613.py:12: FutureWarning: Downcasting behavior in `replace` is deprecated and will be removed in a future version. To retain the old behavior, explicitly call `result.infer_objects(copy=False)`. To opt-in to the future behavior, set `pd.set_option('future.no_silent_downcasting', True)`\n",
      "  cars_data['fuel'].replace(['Diesel', 'Petrol', 'LPG', 'CNG'], [1, 2, 3, 4], inplace=True)\n",
      "/var/folders/9p/yv_48jpn7zs4mtl8qstty22h0000gn/T/ipykernel_21906/2897772613.py:13: FutureWarning: A value is trying to be set on a copy of a DataFrame or Series through chained assignment using an inplace method.\n",
      "The behavior will change in pandas 3.0. This inplace method will never work because the intermediate object on which we are setting values always behaves as a copy.\n",
      "\n",
      "For example, when doing 'df[col].method(value, inplace=True)', try using 'df.method({col: value}, inplace=True)' or df[col] = df[col].method(value) instead, to perform the operation inplace on the original object.\n",
      "\n",
      "\n",
      "  cars_data['owner'].replace(['First Owner', 'Second Owner', 'Third Owner', 'Fourth & Above Owner', 'Test Drive Car'],\n",
      "/var/folders/9p/yv_48jpn7zs4mtl8qstty22h0000gn/T/ipykernel_21906/2897772613.py:13: FutureWarning: Downcasting behavior in `replace` is deprecated and will be removed in a future version. To retain the old behavior, explicitly call `result.infer_objects(copy=False)`. To opt-in to the future behavior, set `pd.set_option('future.no_silent_downcasting', True)`\n",
      "  cars_data['owner'].replace(['First Owner', 'Second Owner', 'Third Owner', 'Fourth & Above Owner', 'Test Drive Car'],\n"
     ]
    }
   ],
   "source": [
    "# LabelEncoder kullanarak kategorik sütunları kodlama\n",
    "le_brand = LabelEncoder()\n",
    "le_model = LabelEncoder()\n",
    "\n",
    "# 'brand' ve 'model' sütunlarını dönüştürme\n",
    "cars_data['brand'] = le_brand.fit_transform(cars_data['brand'])\n",
    "cars_data['model'] = le_model.fit_transform(cars_data['model'])\n",
    "\n",
    "# Diğer kategorik sütunları manuel dönüştürme\n",
    "cars_data['transmission'].replace(['Manual', 'Automatic'], [1, 2], inplace=True)\n",
    "cars_data['seller_type'].replace(['Individual', 'Dealer', 'Trustmark Dealer'], [1, 2, 3], inplace=True)\n",
    "cars_data['fuel'].replace(['Diesel', 'Petrol', 'LPG', 'CNG'], [1, 2, 3, 4], inplace=True)\n",
    "cars_data['owner'].replace(['First Owner', 'Second Owner', 'Third Owner', 'Fourth & Above Owner', 'Test Drive Car'], \n",
    "                           [1, 2, 3, 4, 5], inplace=True)\n",
    "\n",
    "# Güncellenmiş veri tiplerini görüntüleme\n",
    "print(cars_data.info())"
   ]
  },
  {
   "cell_type": "code",
   "execution_count": 5,
   "metadata": {},
   "outputs": [
    {
     "name": "stdout",
     "output_type": "stream",
     "text": [
      "   mileage  max_power  engine\n",
      "0    23.40      74.00  1248.0\n",
      "1    21.14     103.52  1498.0\n",
      "2    17.70      78.00  1497.0\n",
      "3    23.00      90.00  1396.0\n",
      "4    16.10      88.20  1298.0\n"
     ]
    }
   ],
   "source": [
    "# Sayısal değerlerin temizlenmesi için bir yardımcı fonksiyon\n",
    "def clean_data(value):\n",
    "    try:\n",
    "        return float(value.split(' ')[0])\n",
    "    except:\n",
    "        return 0.0\n",
    "\n",
    "# 'mileage', 'max_power', ve 'engine' sütunlarını temizleme\n",
    "cars_data['mileage'] = cars_data['mileage'].apply(clean_data)\n",
    "cars_data['max_power'] = cars_data['max_power'].apply(clean_data)\n",
    "cars_data['engine'] = cars_data['engine'].apply(clean_data)\n",
    "\n",
    "# İlk birkaç satırı kontrol\n",
    "print(cars_data[['mileage', 'max_power', 'engine']].head())"
   ]
  },
  {
   "cell_type": "code",
   "execution_count": 6,
   "metadata": {},
   "outputs": [
    {
     "name": "stdout",
     "output_type": "stream",
     "text": [
      "Eğitim seti boyutu: (5373, 13)\n",
      "Test seti boyutu: (1344, 13)\n"
     ]
    }
   ],
   "source": [
    "# Hedef ve bağımsız değişkenleri ayırma\n",
    "input_data = cars_data.drop(columns=['selling_price'])\n",
    "output_data = cars_data['selling_price']\n",
    "\n",
    "# Veriyi %80 eğitim, %20 test olarak bölme\n",
    "x_train, x_test, y_train, y_test = train_test_split(input_data, output_data, test_size=0.2, random_state=42)\n",
    "\n",
    "# Eğitim ve test veri setlerinin boyutlarını görüntüleme\n",
    "print(\"Eğitim seti boyutu:\", x_train.shape)\n",
    "print(\"Test seti boyutu:\", x_test.shape)"
   ]
  },
  {
   "cell_type": "code",
   "execution_count": 7,
   "metadata": {},
   "outputs": [
    {
     "name": "stdout",
     "output_type": "stream",
     "text": [
      "<class 'pandas.core.frame.DataFrame'>\n",
      "Index: 5373 entries, 2583 to 941\n",
      "Data columns (total 13 columns):\n",
      " #   Column        Non-Null Count  Dtype  \n",
      "---  ------        --------------  -----  \n",
      " 0   name          5373 non-null   object \n",
      " 1   year          5373 non-null   int64  \n",
      " 2   km_driven     5373 non-null   int64  \n",
      " 3   fuel          5373 non-null   int64  \n",
      " 4   seller_type   5373 non-null   int64  \n",
      " 5   transmission  5373 non-null   int64  \n",
      " 6   owner         5373 non-null   int64  \n",
      " 7   mileage       5373 non-null   float64\n",
      " 8   engine        5373 non-null   float64\n",
      " 9   max_power     5373 non-null   float64\n",
      " 10  seats         5373 non-null   float64\n",
      " 11  brand         5373 non-null   int64  \n",
      " 12  model         5373 non-null   int64  \n",
      "dtypes: float64(4), int64(8), object(1)\n",
      "memory usage: 587.7+ KB\n",
      "None\n",
      "                                   name  year  km_driven  fuel  seller_type  \\\n",
      "2583  Hyundai Xcent 1.2 Kappa SX Option  2014      80000     2            1   \n",
      "1428    Ford Figo Aspire 1.5 TDCi Trend  2017      35000     1            1   \n",
      "7288  Hyundai Elantra CRDi SX Option AT  2013      64000     1            2   \n",
      "6851             Maruti Swift Dzire VDI  2018      25000     1            1   \n",
      "4447                   Maruti Swift ZDi  2013      90000     1            1   \n",
      "\n",
      "      transmission  owner  mileage  engine  max_power  seats  brand  model  \n",
      "2583             1      1    19.10  1197.0      82.00    5.0      3   1008  \n",
      "1428             1      1    25.83  1498.0      99.00    5.0      5    737  \n",
      "7288             2      1    14.62  1498.0     113.42    5.0      3   1882  \n",
      "6851             1      1    28.40  1248.0      74.02    5.0      0      0  \n",
      "4447             1      1    22.90  1248.0      74.00    5.0      0    692  \n"
     ]
    }
   ],
   "source": [
    "# Girdi (X) ve Çıktı (y) veri tiplerini kontrol edin\n",
    "print(x_train.info())\n",
    "print(x_train.head())"
   ]
  },
  {
   "cell_type": "code",
   "execution_count": 8,
   "metadata": {},
   "outputs": [
    {
     "name": "stdout",
     "output_type": "stream",
     "text": [
      "<class 'pandas.core.frame.DataFrame'>\n",
      "Index: 5373 entries, 2583 to 941\n",
      "Data columns (total 12 columns):\n",
      " #   Column        Non-Null Count  Dtype  \n",
      "---  ------        --------------  -----  \n",
      " 0   year          5373 non-null   int64  \n",
      " 1   km_driven     5373 non-null   int64  \n",
      " 2   fuel          5373 non-null   int64  \n",
      " 3   seller_type   5373 non-null   int64  \n",
      " 4   transmission  5373 non-null   int64  \n",
      " 5   owner         5373 non-null   int64  \n",
      " 6   mileage       5373 non-null   float64\n",
      " 7   engine        5373 non-null   float64\n",
      " 8   max_power     5373 non-null   float64\n",
      " 9   seats         5373 non-null   float64\n",
      " 10  brand         5373 non-null   int64  \n",
      " 11  model         5373 non-null   int64  \n",
      "dtypes: float64(4), int64(8)\n",
      "memory usage: 545.7 KB\n",
      "None\n",
      "<class 'pandas.core.frame.DataFrame'>\n",
      "Index: 1344 entries, 7039 to 962\n",
      "Data columns (total 12 columns):\n",
      " #   Column        Non-Null Count  Dtype  \n",
      "---  ------        --------------  -----  \n",
      " 0   year          1344 non-null   int64  \n",
      " 1   km_driven     1344 non-null   int64  \n",
      " 2   fuel          1344 non-null   int64  \n",
      " 3   seller_type   1344 non-null   int64  \n",
      " 4   transmission  1344 non-null   int64  \n",
      " 5   owner         1344 non-null   int64  \n",
      " 6   mileage       1344 non-null   float64\n",
      " 7   engine        1344 non-null   float64\n",
      " 8   max_power     1344 non-null   float64\n",
      " 9   seats         1344 non-null   float64\n",
      " 10  brand         1344 non-null   int64  \n",
      " 11  model         1344 non-null   int64  \n",
      "dtypes: float64(4), int64(8)\n",
      "memory usage: 136.5 KB\n",
      "None\n"
     ]
    }
   ],
   "source": [
    "# 'name' sütununu giriş verilerinden kaldırma\n",
    "x_train = x_train.drop(columns=['name'])\n",
    "x_test = x_test.drop(columns=['name'])\n",
    "\n",
    "# Değişiklik sonrası kontrol\n",
    "print(x_train.info())\n",
    "print(x_test.info())\n"
   ]
  },
  {
   "cell_type": "code",
   "execution_count": 16,
   "metadata": {},
   "outputs": [
    {
     "name": "stdout",
     "output_type": "stream",
     "text": [
      "Linear Regresyon Hata Kareler Ortalaması (RMSE): 273879.91784433316\n",
      "Linear Regresyon R^2 Değeri: 0.6581600303506623\n",
      "-------------------------------------------------\n",
      "XGBoost RMSE: 132724.10513408092\n",
      "XGBoost R^2: 0.9197210073471069\n",
      "-------------------------------------------------\n",
      "En iyi model\n",
      "Random Forest RMSE: 121572.6257846156\n",
      "Random Forest R^2: 0.9326443460197957\n",
      "-------------------------------------------------\n",
      "R^2 değeri 1'e ne kadar yaklaşırsa model o kadar anlamlı yanıt oluşturur.\n"
     ]
    }
   ],
   "source": [
    "from xgboost import XGBRegressor\n",
    "from sklearn.ensemble import RandomForestRegressor\n",
    "\n",
    "# Model oluşturma ve eğitme\n",
    "model = LinearRegression()\n",
    "model.fit(x_train, y_train)\n",
    "\n",
    "# Test seti üzerinde tahmin yapma\n",
    "y_pred = model.predict(x_test)\n",
    "\n",
    "# Performans değerlendirmesi\n",
    "rmse = np.sqrt(mean_squared_error(y_test, y_pred))\n",
    "r2 = r2_score(y_test, y_pred)\n",
    "\n",
    "print(\"Linear Regresyon Hata Kareler Ortalaması (RMSE):\", rmse)\n",
    "print(\"Linear Regresyon R^2 Değeri:\", r2)\n",
    "print(\"-------------------------------------------------\")\n",
    "# XGBoost modeli\n",
    "xgb_model = XGBRegressor(random_state=42)\n",
    "xgb_model.fit(x_train, y_train)\n",
    "xgb_pred = xgb_model.predict(x_test)\n",
    "print(\"XGBoost RMSE:\", np.sqrt(mean_squared_error(y_test, xgb_pred)))\n",
    "print(\"XGBoost R^2:\", r2_score(y_test, xgb_pred))\n",
    "print(\"-------------------------------------------------\")\n",
    "# Random Forest modeli\n",
    "rf_model = RandomForestRegressor(random_state=42)\n",
    "rf_model.fit(x_train, y_train)\n",
    "rf_pred = rf_model.predict(x_test)\n",
    "print(\"En iyi model\")\n",
    "print(\"Random Forest RMSE:\", np.sqrt(mean_squared_error(y_test, rf_pred)))\n",
    "print(\"Random Forest R^2:\", r2_score(y_test, rf_pred))\n",
    "print(\"-------------------------------------------------\")\n",
    "print(\"R^2 değeri 1'e ne kadar yaklaşırsa model o kadar anlamlı yanıt oluşturur.\")"
   ]
  },
  {
   "cell_type": "code",
   "execution_count": null,
   "metadata": {},
   "outputs": [
    {
     "name": "stdout",
     "output_type": "stream",
     "text": [
      "Model başarıyla kaydedildi.\n"
     ]
    }
   ],
   "source": [
    "import pickle\n",
    "\n",
    "# En iyi modeli kaydetme\n",
    "with open('model.pkl', 'wb') as file:\n",
    "    pickle.dump(rf_model, file)\n",
    "\n",
    "print(\"Model başarıyla kaydedildi.\")"
   ]
  }
 ],
 "metadata": {
  "kernelspec": {
   "display_name": "Python 3",
   "language": "python",
   "name": "python3"
  },
  "language_info": {
   "codemirror_mode": {
    "name": "ipython",
    "version": 3
   },
   "file_extension": ".py",
   "mimetype": "text/x-python",
   "name": "python",
   "nbconvert_exporter": "python",
   "pygments_lexer": "ipython3",
   "version": "3.10.14"
  }
 },
 "nbformat": 4,
 "nbformat_minor": 2
}
